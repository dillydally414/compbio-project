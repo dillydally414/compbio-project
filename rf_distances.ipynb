{
 "cells": [
  {
   "cell_type": "code",
   "execution_count": 1,
   "id": "d31ea038-7cfd-48f2-9b7d-f54f09f12454",
   "metadata": {},
   "outputs": [],
   "source": [
    "from ete3 import Tree"
   ]
  },
  {
   "cell_type": "code",
   "execution_count": 29,
   "id": "b92b02f2-5d70-4ecb-8151-a0cdb0750272",
   "metadata": {},
   "outputs": [],
   "source": [
    "jgi = Tree(\"JGItree.nwk\", format = 1)\n",
    "jgi.set_outgroup(jgi&\"Glomus_cerebriforme\")\n",
    "\n",
    "aim1 = Tree(\"aim1.nwk\", format = 1)\n",
    "aim2 = Tree(\"aim2.nhx\", format = 1)\n",
    "aim3 = Tree(\"sample_20_seq_str_tree.txt\", format = 1)"
   ]
  },
  {
   "cell_type": "code",
   "execution_count": 11,
   "id": "c57f8388-43aa-4c1c-9e8d-ee16b9f5af30",
   "metadata": {},
   "outputs": [],
   "source": [
    "def find_rf(t1, t2):\n",
    "    res = []\n",
    "    rf, max_rf, common_leaves, parts_t1, parts_t2, discard_t1, discard_t2 = t1.robinson_foulds(t2, unrooted_trees = True)\n",
    "\n",
    "    res.append(rf/max_rf)\n",
    "    res.append(rf)\n",
    "    res.append(max_rf)\n",
    "\n",
    "    return res"
   ]
  },
  {
   "cell_type": "code",
   "execution_count": 13,
   "id": "3f6098bb-596c-4c7c-be5c-fcec8237b1d3",
   "metadata": {},
   "outputs": [
    {
     "data": {
      "text/plain": [
       "0.5555555555555556"
      ]
     },
     "execution_count": 13,
     "metadata": {},
     "output_type": "execute_result"
    }
   ],
   "source": [
    "aim1_comp = find_rf(jgi, aim1)\n",
    "aim1_comp[0]\n",
    "\n",
    "# Normalized RF for JGI & Aim 1: 0.56"
   ]
  },
  {
   "cell_type": "code",
   "execution_count": 14,
   "id": "2b05a5b0-715a-4ee1-9957-cd449e0478d2",
   "metadata": {},
   "outputs": [
    {
     "data": {
      "text/plain": [
       "0.7037037037037037"
      ]
     },
     "execution_count": 14,
     "metadata": {},
     "output_type": "execute_result"
    }
   ],
   "source": [
    "aim2_comp = find_rf(jgi, aim2)\n",
    "aim2_comp[0]\n",
    "\n",
    "# Normalized RF for JGI & Aim 2: 0.70"
   ]
  },
  {
   "cell_type": "code",
   "execution_count": 30,
   "id": "d10a5a71-f5df-4a58-8104-ecb6aa87ff1d",
   "metadata": {},
   "outputs": [
    {
     "data": {
      "text/plain": [
       "0.5833333333333334"
      ]
     },
     "execution_count": 30,
     "metadata": {},
     "output_type": "execute_result"
    }
   ],
   "source": [
    "aim3_comp = find_rf(jgi, aim3)\n",
    "aim3_comp[0]\n",
    "\n",
    "# Normalized RF for JGI & Aim 3: 0.58"
   ]
  },
  {
   "cell_type": "code",
   "execution_count": null,
   "id": "1b180ee6-e045-437e-bc18-74b8268178de",
   "metadata": {},
   "outputs": [],
   "source": []
  }
 ],
 "metadata": {
  "kernelspec": {
   "display_name": "Python 3 (ipykernel)",
   "language": "python",
   "name": "python3"
  },
  "language_info": {
   "codemirror_mode": {
    "name": "ipython",
    "version": 3
   },
   "file_extension": ".py",
   "mimetype": "text/x-python",
   "name": "python",
   "nbconvert_exporter": "python",
   "pygments_lexer": "ipython3",
   "version": "3.12.7"
  }
 },
 "nbformat": 4,
 "nbformat_minor": 5
}
