{
 "cells": [
  {
   "cell_type": "code",
   "execution_count": 1,
   "metadata": {},
   "outputs": [],
   "source": [
    "from ete3 import Tree"
   ]
  },
  {
   "cell_type": "markdown",
   "metadata": {},
   "source": [
    "Loading all the tree in newick format"
   ]
  },
  {
   "cell_type": "code",
   "execution_count": 18,
   "metadata": {},
   "outputs": [],
   "source": [
    "# Load the backbone tree and the tip tree (Newick format)\n",
    "backbone_newick = \"(((((asper),(pleos,phyllo))),pucci),Glomus cerebriforme);\"\n",
    "asper = \"((((Penicillium georgiense:0.31783,Penicillium chrysogenum:0.103417):0.071738,Aspergillus flavus:0.106058):0.023629,Aspergillus niger:0.092977):0.015803,Penicillium citrinum:0.065891,Aspergillus terreus:0.156491);\"\n",
    "pleos = \"((Alternaria malorum:0.024568,((Alternaria alternariae:0.008327,Alternaria papavericola:0.046698):0.023827,Alternaria brassicicola:0.004554):0.024985):0.166942,Bipolaris heveae:0.088624,Curvularia pallescens:0.129628);\"\n",
    "phyllo = \"(Phyllosticta citricarpa:0.09770827,Phyllosticta capitalensis:0.00000001,(Phyllosticta elongata:0.00000001,Phyllosticta ampelicida:0.227211):0.00597305);\"\n",
    "pucci = \"((Puccinia graminis:0.08442448,Puccinia coronata:0.18315545):0.58472498,Puccinia melampodii:0.00538093,Puccinia xanthii:0.00000001);\""
   ]
  },
  {
   "cell_type": "code",
   "execution_count": 19,
   "metadata": {},
   "outputs": [],
   "source": [
    "# Create tree objects\n",
    "backbone_tree = Tree(backbone_newick)\n",
    "asper_tree = Tree(asper)\n",
    "pleos_tree = Tree(pleos)\n",
    "phyllo_tree = Tree(phyllo)\n",
    "pucci_tree = Tree(pucci)"
   ]
  },
  {
   "cell_type": "markdown",
   "metadata": {},
   "source": [
    "Add each subtree to the backbone"
   ]
  },
  {
   "cell_type": "code",
   "execution_count": 20,
   "metadata": {},
   "outputs": [
    {
     "data": {
      "text/plain": [
       "Tree node '' (0x12f44dbe)"
      ]
     },
     "execution_count": 20,
     "metadata": {},
     "output_type": "execute_result"
    }
   ],
   "source": [
    "internal_node = backbone_tree.search_nodes(name=\"asper\")[0]  # Find node \"C\"\n",
    "internal_node.add_child(asper_tree)  # Attach the entire tip tree as a subtree under node \"C\""
   ]
  },
  {
   "cell_type": "code",
   "execution_count": 21,
   "metadata": {},
   "outputs": [
    {
     "data": {
      "text/plain": [
       "Tree node '' (0x12eab9f1)"
      ]
     },
     "execution_count": 21,
     "metadata": {},
     "output_type": "execute_result"
    }
   ],
   "source": [
    "internal_node = backbone_tree.search_nodes(name=\"pleos\")[0]\n",
    "internal_node.add_child(pleos_tree)"
   ]
  },
  {
   "cell_type": "code",
   "execution_count": 22,
   "metadata": {},
   "outputs": [
    {
     "data": {
      "text/plain": [
       "Tree node '' (0x12eab9c4)"
      ]
     },
     "execution_count": 22,
     "metadata": {},
     "output_type": "execute_result"
    }
   ],
   "source": [
    "internal_node = backbone_tree.search_nodes(name=\"phyllo\")[0]\n",
    "internal_node.add_child(phyllo_tree)"
   ]
  },
  {
   "cell_type": "code",
   "execution_count": 23,
   "metadata": {},
   "outputs": [
    {
     "data": {
      "text/plain": [
       "Tree node '' (0x12eab9b2)"
      ]
     },
     "execution_count": 23,
     "metadata": {},
     "output_type": "execute_result"
    }
   ],
   "source": [
    "internal_node = backbone_tree.search_nodes(name='pucci')[0]\n",
    "internal_node.add_child(pucci_tree)"
   ]
  },
  {
   "cell_type": "code",
   "execution_count": 24,
   "metadata": {},
   "outputs": [
    {
     "name": "stdout",
     "output_type": "stream",
     "text": [
      "((((((((((Penicillium georgiense:0.31783,Penicillium chrysogenum:0.103417)1:0.071738,Aspergillus flavus:0.106058)1:0.023629,Aspergillus niger:0.092977)1:0.015803,Penicillium citrinum:0.065891,Aspergillus terreus:0.156491)1:0)1:1)1:1,((((Alternaria malorum:0.024568,((Alternaria alternariae:0.008327,Alternaria papavericola:0.046698)1:0.023827,Alternaria brassicicola:0.004554)1:0.024985)1:0.166942,Bipolaris heveae:0.088624,Curvularia pallescens:0.129628)1:0)1:1,((Phyllosticta citricarpa:0.0977083,Phyllosticta capitalensis:1e-08,(Phyllosticta elongata:1e-08,Phyllosticta ampelicida:0.227211)1:0.00597305)1:0)1:1)1:1)1:1)1:1,(((Puccinia graminis:0.0844245,Puccinia coronata:0.183155)1:0.584725,Puccinia melampodii:0.00538093,Puccinia xanthii:1e-08)1:0)1:1)1:1,Glomus cerebriforme:1);\n"
     ]
    }
   ],
   "source": [
    "print(backbone_tree.write())"
   ]
  },
  {
   "cell_type": "code",
   "execution_count": 25,
   "metadata": {},
   "outputs": [],
   "source": [
    "backbone_tree.write(outfile=\"comp_bio_trees/jgi_backbone_aim2.nwk\")"
   ]
  }
 ],
 "metadata": {
  "kernelspec": {
   "display_name": "Python 3",
   "language": "python",
   "name": "python3"
  },
  "language_info": {
   "codemirror_mode": {
    "name": "ipython",
    "version": 3
   },
   "file_extension": ".py",
   "mimetype": "text/x-python",
   "name": "python",
   "nbconvert_exporter": "python",
   "pygments_lexer": "ipython3",
   "version": "3.9.6"
  }
 },
 "nbformat": 4,
 "nbformat_minor": 2
}
