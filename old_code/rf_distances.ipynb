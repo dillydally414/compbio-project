{
 "cells": [
  {
   "cell_type": "code",
   "execution_count": 1,
   "id": "d31ea038-7cfd-48f2-9b7d-f54f09f12454",
   "metadata": {},
   "outputs": [],
   "source": [
    "from ete3 import Tree"
   ]
  },
  {
   "cell_type": "code",
   "execution_count": 2,
   "id": "b92b02f2-5d70-4ecb-8151-a0cdb0750272",
   "metadata": {},
   "outputs": [],
   "source": [
    "jgi = Tree(\"JGItree.nwk\", format = 1)\n",
    "jgi.set_outgroup(jgi&\"Glomus_cerebriforme\")\n",
    "\n",
    "aim1 = Tree(\"aim1.nwk\", format = 1)\n",
    "aim2 = Tree(\"aim2.nhx\", format = 1)\n",
    "aim3 = Tree(\"sample_20_seq_str_tree.txt\", format = 1)"
   ]
  },
  {
   "cell_type": "code",
   "execution_count": 3,
   "id": "c57f8388-43aa-4c1c-9e8d-ee16b9f5af30",
   "metadata": {},
   "outputs": [],
   "source": [
    "def find_rf(t1, t2):\n",
    "    res = []\n",
    "    rf, max_rf, common_leaves, parts_t1, parts_t2, discard_t1, discard_t2 = t1.robinson_foulds(t2, unrooted_trees = True)\n",
    "\n",
    "    res.append(rf/max_rf)\n",
    "    res.append(rf)\n",
    "    res.append(max_rf)\n",
    "\n",
    "    return res"
   ]
  },
  {
   "cell_type": "code",
   "execution_count": 4,
   "id": "3f6098bb-596c-4c7c-be5c-fcec8237b1d3",
   "metadata": {},
   "outputs": [
    {
     "data": {
      "text/plain": [
       "0.5555555555555556"
      ]
     },
     "execution_count": 4,
     "metadata": {},
     "output_type": "execute_result"
    }
   ],
   "source": [
    "aim1_comp = find_rf(jgi, aim1)\n",
    "aim1_comp[0]\n",
    "\n",
    "# Normalized RF for JGI & Aim 1: 0.56"
   ]
  },
  {
   "cell_type": "code",
   "execution_count": 5,
   "id": "2b05a5b0-715a-4ee1-9957-cd449e0478d2",
   "metadata": {},
   "outputs": [
    {
     "data": {
      "text/plain": [
       "0.391304347826087"
      ]
     },
     "execution_count": 5,
     "metadata": {},
     "output_type": "execute_result"
    }
   ],
   "source": [
    "aim2_comp = find_rf(jgi, aim2)\n",
    "aim2_comp[0]\n",
    "\n",
    "# Normalized RF for JGI & Aim 2: 0.39"
   ]
  },
  {
   "cell_type": "code",
   "execution_count": 6,
   "id": "d10a5a71-f5df-4a58-8104-ecb6aa87ff1d",
   "metadata": {},
   "outputs": [
    {
     "data": {
      "text/plain": [
       "0.5833333333333334"
      ]
     },
     "execution_count": 6,
     "metadata": {},
     "output_type": "execute_result"
    }
   ],
   "source": [
    "aim3_comp = find_rf(jgi, aim3)\n",
    "aim3_comp[0]\n",
    "\n",
    "# Normalized RF for JGI & Aim 3: 0.58"
   ]
  },
  {
   "cell_type": "code",
   "execution_count": 7,
   "id": "a66b1645-15b5-49eb-a546-6fbe171b6a55",
   "metadata": {},
   "outputs": [
    {
     "data": {
      "text/plain": [
       "0.4375"
      ]
     },
     "execution_count": 7,
     "metadata": {},
     "output_type": "execute_result"
    }
   ],
   "source": [
    "aim1_aim3 = find_rf(aim1, aim3)\n",
    "aim1_aim3[0]"
   ]
  },
  {
   "cell_type": "code",
   "execution_count": 8,
   "id": "45b6bad9-acc6-414f-8b10-51f841eeaa10",
   "metadata": {},
   "outputs": [
    {
     "data": {
      "text/plain": [
       "0.625"
      ]
     },
     "execution_count": 8,
     "metadata": {},
     "output_type": "execute_result"
    }
   ],
   "source": [
    "aim1_aim2 = find_rf(aim1, aim2)\n",
    "aim1_aim2[0]"
   ]
  },
  {
   "cell_type": "code",
   "execution_count": 9,
   "id": "9f127f3d-f8f6-4afb-ad06-6e82ac80c110",
   "metadata": {},
   "outputs": [
    {
     "data": {
      "text/plain": [
       "0.5862068965517241"
      ]
     },
     "execution_count": 9,
     "metadata": {},
     "output_type": "execute_result"
    }
   ],
   "source": [
    "aim2_aim3 = find_rf(aim2, aim3)\n",
    "aim2_aim3[0]"
   ]
  }
 ],
 "metadata": {
  "kernelspec": {
   "display_name": "Python 3 (ipykernel)",
   "language": "python",
   "name": "python3"
  },
  "language_info": {
   "codemirror_mode": {
    "name": "ipython",
    "version": 3
   },
   "file_extension": ".py",
   "mimetype": "text/x-python",
   "name": "python",
   "nbconvert_exporter": "python",
   "pygments_lexer": "ipython3",
   "version": "3.12.7"
  }
 },
 "nbformat": 4,
 "nbformat_minor": 5
}
